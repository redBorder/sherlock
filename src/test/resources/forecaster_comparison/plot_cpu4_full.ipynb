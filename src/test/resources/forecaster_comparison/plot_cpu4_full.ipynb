{
 "cells": [
  {
   "cell_type": "code",
   "execution_count": null,
   "id": "b49211bd-15d3-45f4-bdfc-57320b3de0ad",
   "metadata": {
    "pycharm": {
     "name": "#%%\n"
    }
   },
   "outputs": [],
   "source": [
    "import pandas as pd\n",
    "import matplotlib.pyplot as plt\n",
    "import matplotlib.colors as colors\n",
    "import colorsys\n",
    "from tqdm import tqdm"
   ]
  },
  {
   "cell_type": "code",
   "execution_count": null,
   "id": "69facdd1-1403-4c40-811a-a657013345f8",
   "metadata": {
    "pycharm": {
     "name": "#%%\n"
    }
   },
   "outputs": [],
   "source": [
    "# Read csv file into pandas dataframe\n",
    "# original file cpu4.csv is from https://www.kaggle.com/code/caesarlupum/ar-labeled-anomaly-detection-in-time-series/data.\n",
    "filename = 'cpu4_full'\n",
    "df = pd.read_csv('csv_files/' + filename + '.csv', sep = ',')\n",
    "df['date']=(pd.to_datetime(df['date'],unit='s')) # assume unix timestamp from input always in sec"
   ]
  },
  {
   "cell_type": "code",
   "execution_count": null,
   "id": "22d71352-7b7b-4010-890e-63909e90f88e",
   "metadata": {
    "pycharm": {
     "name": "#%%\n"
    }
   },
   "outputs": [],
   "source": [
    "df.head"
   ]
  },
  {
   "cell_type": "code",
   "execution_count": null,
   "id": "0d9ecfc1-a293-40e7-a6bd-9e9e0d5ef85d",
   "metadata": {
    "pycharm": {
     "name": "#%%\n"
    }
   },
   "outputs": [],
   "source": [
    "# Helper function make color (hex string/color string) lighter by multiplying luminosity and luminance_scale\n",
    "def lighten(color, luminance_scale):\n",
    "    try:\n",
    "        c = colors.cnames[color]\n",
    "    except:\n",
    "        c = color\n",
    "    h, l, s = colorsys.rgb_to_hls(*colors.to_rgb(c))\n",
    "    return colorsys.hls_to_rgb(h, 1 - luminance_scale * (1 - l), s)"
   ]
  },
  {
   "cell_type": "code",
   "execution_count": null,
   "id": "32371aa7-ad8d-4992-8514-3ff227e4baab",
   "metadata": {
    "pycharm": {
     "name": "#%%\n"
    }
   },
   "outputs": [],
   "source": [
    "output_folder = 'plots'\n",
    "fig = plt.figure(figsize=(35,10))\n",
    "ax = fig.add_subplot(111)\n",
    "\n",
    "# plot original timeseries/prophet expected timeseries/egads expected timeseries\n",
    "ax.plot(df.date, df.original, label='Original Value', color='tomato')\n",
    "ax.plot(df.date, df.prophetExpected, label='Prophet Predicted', color=lighten('b',0.15))\n",
    "       \n",
    "# plot anomalies\n",
    "both_anomaly_flag = False\n",
    "prophet_anomaly_flag = False\n",
    "miss_anomaly_flag = False\n",
    "prophet_true_pos_cnt = 0\n",
    "prophet_true_neg_cnt = 0\n",
    "prophet_false_pos_cnt = 0\n",
    "for idx, row in tqdm(df.iterrows()):\n",
    "    if row['prophetAnomaly'] == 'yes' and row['label'] == 1:\n",
    "        prophet_true_pos_cnt += 1\n",
    "        if not both_anomaly_flag:\n",
    "            ax.scatter(row['date'], row['original'], color='red', label=\"True anomaly identified by Prophet\")\n",
    "            both_anomaly_flag = True\n",
    "        else:\n",
    "            ax.scatter(row['date'], row['original'], color='red')\n",
    "    elif row['label'] == 1:\n",
    "        prophet_true_neg_cnt += 1\n",
    "        if not miss_anomaly_flag:\n",
    "            ax.scatter(row['date'], row['original'], color='green', label=\"True anomaly not identified by Prophet\")       \n",
    "            miss_anomaly_flag = True\n",
    "        else:\n",
    "            ax.scatter(row['date'], row['original'], color='green')              \n",
    "    elif row['prophetAnomaly'] == 'yes':\n",
    "        prophet_false_pos_cnt += 1\n",
    "        if not prophet_anomaly_flag:\n",
    "            ax.scatter(row['date'], row['original'], color='blue', label=\"False positives by Prophet\")\n",
    "            prophet_anomaly_flag = True\n",
    "        else:\n",
    "            ax.scatter(row['date'], row['original'], color='blue')\n",
    "ax.legend(loc = 'best')\n",
    "plt.title(\"Visualize Prophet anomalies vs true anomalies\")\n",
    "plt.savefig(output_folder + '/' + filename + '.png')"
   ]
  },
  {
   "cell_type": "code",
   "execution_count": null,
   "id": "bd5b74e2-58c0-4b11-a0c4-9500d7957e5b",
   "metadata": {
    "pycharm": {
     "name": "#%%\n"
    }
   },
   "outputs": [],
   "source": [
    "print(\"prophet_true_pos_cnt\", prophet_true_pos_cnt)\n",
    "print(\"prophet_true_neg_cnt\", prophet_true_neg_cnt)\n",
    "print(\"prophet_false_pos_cnt\", prophet_false_pos_cnt)"
   ]
  }
 ],
 "metadata": {
  "kernelspec": {
   "display_name": "Python 3 (ipykernel)",
   "language": "python",
   "name": "python3"
  },
  "language_info": {
   "codemirror_mode": {
    "name": "ipython",
    "version": 3
   },
   "file_extension": ".py",
   "mimetype": "text/x-python",
   "name": "python",
   "nbconvert_exporter": "python",
   "pygments_lexer": "ipython3",
   "version": "3.8.9"
  }
 },
 "nbformat": 4,
 "nbformat_minor": 5
}
